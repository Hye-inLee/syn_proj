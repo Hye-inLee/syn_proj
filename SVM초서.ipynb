{
 "cells": [
  {
   "cell_type": "code",
   "execution_count": 23,
   "metadata": {},
   "outputs": [],
   "source": [
    "#%config IPCompleter.greedy=True"
   ]
  },
  {
   "cell_type": "code",
   "execution_count": 24,
   "metadata": {},
   "outputs": [],
   "source": [
    "from PIL import Image\n",
    "import os\n",
    "from glob import glob\n",
    "from sklearn.model_selection import train_test_split, GridSearchCV\n",
    "from matplotlib import pyplot as plt\n",
    "import tensorflow as tf\n",
    "import numpy as np\n",
    "import keras as kr\n",
    "from sklearn.preprocessing import StandardScaler"
   ]
  },
  {
   "cell_type": "code",
   "execution_count": 34,
   "metadata": {},
   "outputs": [],
   "source": [
    "#데이터 불러오기 \n",
    "\n",
    "\n",
    "image_dir_path = os.path.dirname(os.path.abspath(\"__file__\")) + '/Data(224)'\n",
    "categories = os.listdir('./Data(224)')\n",
    "select_cat = []\n",
    "nb_classes = 0\n",
    "\n",
    "# image_w = 28\n",
    "# image_h = 28\n",
    "\n",
    "\n",
    "X = []\n",
    "y = []\n",
    "#이미지 몇개 이상 분포만 불러오는 부분\n",
    "count = 0;\n",
    "for idx, c in enumerate(categories):\n",
    "    dir = image_dir_path + '/' + c\n",
    "    f = glob(dir+'/*.jpg')\n",
    "    if len(f) >= 200:\n",
    "        nb_classes += 1\n",
    "        select_cat.append(dir)\n",
    "# for images in files:\n",
    "#     io.imshow(images)\n",
    "#     #io.show()\n",
    "\n",
    "# img_data=[]\n",
    "# img = io.imread(files[1:3])\n",
    "# img\n",
    "\n",
    "#data = img.reshape(-1,224*224*3)/255\n",
    "# img = io.imread(images[:1])\n",
    "# data = img.reshape(-1,224*224*3)/255\n"
   ]
  },
  {
   "cell_type": "code",
   "execution_count": 35,
   "metadata": {},
   "outputs": [],
   "source": [
    "#이미지 데이터 불러오고 라벨링\n",
    "for index, cat in enumerate(select_cat):\n",
    "    files = glob(select_cat[index]+'/*.jpg')\n",
    "    for i, f in enumerate(files):\n",
    "            img = Image.open(f)\n",
    "            img = img.convert(\"L\")\n",
    "            #img = img.resize((image_w, image_h))\n",
    "            data = np.asarray(img)\n",
    "            \n",
    "            X.append(data)\n",
    "            y.append(index)"
   ]
  },
  {
   "cell_type": "code",
   "execution_count": 36,
   "metadata": {},
   "outputs": [],
   "source": [
    "X = np.array(X)\n",
    "y = np.array(y)\n",
    "\n",
    "# X = X.reshape(-1,224*224*3)/255\n",
    "# print(X.shape)\n",
    "\n",
    "nsamples, nx, ny = X.shape\n",
    "X = X.reshape((nsamples,nx*ny))\n",
    "# print(X.shape)\n",
    "# print(X.shape)\n",
    "# print(y.shape)\n"
   ]
  },
  {
   "cell_type": "code",
   "execution_count": 40,
   "metadata": {
    "scrolled": true
   },
   "outputs": [
    {
     "name": "stdout",
     "output_type": "stream",
     "text": [
      "(2127, 50176) (2127,)\n",
      "(709, 50176) (709,)\n",
      "(710, 50176) (710,)\n"
     ]
    }
   ],
   "source": [
    "#데이터 스플릿\n",
    "\n",
    "#test 20% split\n",
    "X_train, X_test, y_train, Y_test = train_test_split(X, y, test_size = 0.4)\n",
    "x_test, x_val, y_test, y_val = train_test_split(X_test, Y_test, test_size = 0.5)\n",
    "\n",
    "# X_train, X_test, y_trian, y_test = trian_test_split(X,y,test_size=0.2)\n",
    "# x_test, x_val, y_test, y_val = train_test_split(X_train, y_train, test_size = 0.25)\n",
    "sc = StandardScaler()\n",
    "sc.fit(X)\n",
    "X_train_std = sc.transform(X_train)\n",
    "x_test_std = sc.transform(x_test)\n",
    "x_val_std = sc.transform(x_val)\n",
    "\n",
    "print(X_train_std.shape, y_train.shape)\n",
    "print(x_test_std.shape, y_test.shape)\n",
    "print(x_val_std.shape, y_val.shape)\n"
   ]
  },
  {
   "cell_type": "code",
   "execution_count": 7,
   "metadata": {
    "scrolled": true
   },
   "outputs": [],
   "source": [
    "# #svm모델 생성\n",
    "# from sklearn.svm import SVC\n",
    "# svm_model = SVC(kernel='rbf', C = 20.0, gamma = 'auto')\n",
    "# svm_model.fit(X_train_std, y_train)\n",
    "# y_pred = svm_model.predict(x_val_std)"
   ]
  },
  {
   "cell_type": "code",
   "execution_count": 8,
   "metadata": {
    "scrolled": true
   },
   "outputs": [],
   "source": [
    "# print(\"prediction accuracy: {:.2f}%\".format(np.mean(y_pred == y_val)))"
   ]
  },
  {
   "cell_type": "code",
   "execution_count": 9,
   "metadata": {},
   "outputs": [
    {
     "name": "stdout",
     "output_type": "stream",
     "text": [
      "선형 SVM : C : 1, training score:1.000000, validation score:0.533803\n",
      "선형 SVM : C : 2, training score:1.000000, validation score:0.533803\n",
      "선형 SVM : C : 3, training score:1.000000, validation score:0.533803\n",
      "선형 SVM : C : 4, training score:1.000000, validation score:0.533803\n"
     ]
    }
   ],
   "source": [
    "from sklearn.svm import SVC\n",
    "scores = []\n",
    "for thisC in [*range(1,5)]:\n",
    "    svc= SVC(kernel = 'linear', C=float(thisC))\n",
    "    model=svc.fit(X_train_std, y_train)\n",
    "    scoreTrain=model.score(X_train_std, y_train)\n",
    "    scoreTest=model.score(x_val_std, y_val)\n",
    "    print(\"선형 SVM : C : {}, training score:{:2f}, validation score:{:2f}\".format\n",
    "         (thisC, scoreTrain, scoreTest))\n",
    "    scores.append([scoreTrain, scoreTest])"
   ]
  },
  {
   "cell_type": "code",
   "execution_count": 10,
   "metadata": {},
   "outputs": [
    {
     "data": {
      "text/plain": [
       "<AxesSubplot:>"
      ]
     },
     "execution_count": 10,
     "metadata": {},
     "output_type": "execute_result"
    },
    {
     "data": {
      "image/png": "[encoded data removed]",
      "text/plain": [
       "<Figure size 432x288 with 1 Axes>"
      ]
     },
     "metadata": {
      "needs_background": "light"
     },
     "output_type": "display_data"
    }
   ],
   "source": [
    "import pandas as pd\n",
    "pd.DataFrame(scores).plot()\n",
    "# <matplotlib.axes._subplots.AxesSubplot at 0x1cc9339dac8>"
   ]
  },
  {
   "cell_type": "code",
   "execution_count": 14,
   "metadata": {},
   "outputs": [
    {
     "name": "stdout",
     "output_type": "stream",
     "text": [
      "CV 점수: [0.53521127 0.54694836 0.54117647 0.52       0.49176471]\n",
      "CV 평균점수 : 0.5270201601767467\n",
      "StratifiedKFold CV 평균점수 :  0.5425617232808616\n"
     ]
    }
   ],
   "source": [
    "from sklearn.model_selection import cross_val_score, StratifiedKFold\n",
    "\n",
    "model=SVC(kernel='linear', C=20).fit(X_train_std,y_train)\n",
    "scores=cross_val_score(model, X_train_std, y_train, cv=5)\n",
    "print(\"CV 점수: \" +str(scores))\n",
    "st_scores=cross_val_score(model, X_train_std, y_train,cv=StratifiedKFold(5,random_state=10, shuffle = True))\n",
    "print(\"CV 평균점수 : \" +str(scores.mean()))\n",
    "print(\"StratifiedKFold CV 평균점수 :  \" +str(st_scores.mean()))"
   ]
  },
  {
   "cell_type": "code",
   "execution_count": 15,
   "metadata": {},
   "outputs": [
    {
     "name": "stdout",
     "output_type": "stream",
     "text": [
      "선형 SVM : training score:1.000000, validation score:1.000000 \n",
      "\n",
      "선형 SVM : training score:10.000000, validation score:1.000000 \n",
      "\n",
      "선형 SVM : training score:50.000000, validation score:1.000000 \n",
      "\n",
      "선형 SVM : training score:80.000000, validation score:1.000000 \n",
      "\n",
      "선형 SVM : training score:100.000000, validation score:1.000000 \n",
      "\n"
     ]
    }
   ],
   "source": [
    "from sklearn.svm import LinearSVC\n",
    "\n",
    "for thisC in [1,10,50,80,100]:  #[1,3,5,10,40,60,80,100]\n",
    "    model2 = LinearSVC(C=thisC).fit(X_train_std, y_train)\n",
    "    scoretrain = model2.score(X_train_std, y_train)\n",
    "    scoreval = model2.score(x_val_std, y_val)\n",
    "    print(\"선형 SVM : training score:{:2f}, validation score:{:2f} \\n\".format\n",
    "         (thisC, scoretrain, scoreval))"
   ]
  },
  {
   "cell_type": "code",
   "execution_count": 16,
   "metadata": {},
   "outputs": [
    {
     "name": "stdout",
     "output_type": "stream",
     "text": [
      "RBF SVM : C : 1, training score:0.100000. validation score:1.000000 \n",
      "\n",
      "RBF SVM : C : 20, training score:0.100000. validation score:1.000000 \n",
      "\n",
      "RBF SVM : C : 70, training score:0.100000. validation score:1.000000 \n",
      "\n",
      "RBF SVM : C : 100, training score:0.100000. validation score:1.000000 \n",
      "\n",
      "RBF SVM : C : 1, training score:0.250000. validation score:1.000000 \n",
      "\n",
      "RBF SVM : C : 20, training score:0.250000. validation score:1.000000 \n",
      "\n",
      "RBF SVM : C : 70, training score:0.250000. validation score:1.000000 \n",
      "\n",
      "RBF SVM : C : 100, training score:0.250000. validation score:1.000000 \n",
      "\n",
      "RBF SVM : C : 1, training score:0.500000. validation score:1.000000 \n",
      "\n",
      "RBF SVM : C : 20, training score:0.500000. validation score:1.000000 \n",
      "\n",
      "RBF SVM : C : 70, training score:0.500000. validation score:1.000000 \n",
      "\n",
      "RBF SVM : C : 100, training score:0.500000. validation score:1.000000 \n",
      "\n",
      "RBF SVM : C : 1, training score:1.000000. validation score:1.000000 \n",
      "\n",
      "RBF SVM : C : 20, training score:1.000000. validation score:1.000000 \n",
      "\n",
      "RBF SVM : C : 70, training score:1.000000. validation score:1.000000 \n",
      "\n",
      "RBF SVM : C : 100, training score:1.000000. validation score:1.000000 \n",
      "\n"
     ]
    }
   ],
   "source": [
    "for thisGamma in [.1, .25, .5, 1]:\n",
    "    for thisC in [1,20,70,100]: #[1,5,10,20,40,70,100] \n",
    "        model3=SVC(kernel=\"rbf\", C=thisC,\n",
    "                  gamma=thisGamma).fit(X_train_std, y_train)\n",
    "        m3train=model3.score(X_train_std, y_train)\n",
    "        m3val = model3.score(x_val_std, y_val)\n",
    "        print(\"RBF SVM : C : {}, training score:{:2f}. validation score:{:2f} \\n\".format\n",
    "             (thisC, thisGamma, m3train, m3val))"
   ]
  },
  {
   "cell_type": "code",
   "execution_count": 17,
   "metadata": {},
   "outputs": [],
   "source": [
    "# from sklearn.model_selection import GridSearchCV\n",
    "\n",
    "# param={'C':[1,5,10,20,40,70,100], 'gamma':[.1,.25,.5,1]}\n",
    "# GS=GridSearchCV(SVC(Kernel='rbf'),param,cv=5)\n",
    "# GS.fit(X_train_std, y_train)\n",
    "# print(GS.best_params_)\n",
    "# print(GS.best_score_)"
   ]
  },
  {
   "cell_type": "code",
   "execution_count": 18,
   "metadata": {},
   "outputs": [],
   "source": [
    "# model = SVC(kernel='rbf', C= , gamma= ).fit(x_test_std, y_test)\n"
   ]
  },
  {
   "cell_type": "code",
   "execution_count": 19,
   "metadata": {},
   "outputs": [],
   "source": [
    "from sklearn.metrics import classification_report, accuracy_score\n",
    "\n",
    "y_pred_train = svc.predict(X_train_std)\n",
    "y_pred_test = svc.predict(x_test_std)\n"
   ]
  },
  {
   "cell_type": "code",
   "execution_count": 20,
   "metadata": {},
   "outputs": [
    {
     "name": "stdout",
     "output_type": "stream",
     "text": [
      "              precision    recall  f1-score   support\n",
      "\n",
      "           0       1.00      1.00      1.00       221\n",
      "           1       1.00      1.00      1.00       184\n",
      "           2       1.00      1.00      1.00       175\n",
      "           3       1.00      1.00      1.00       109\n",
      "           4       1.00      1.00      1.00       187\n",
      "           5       1.00      1.00      1.00       153\n",
      "           6       1.00      1.00      1.00       155\n",
      "           7       1.00      1.00      1.00       120\n",
      "           8       1.00      1.00      1.00       143\n",
      "           9       1.00      1.00      1.00       124\n",
      "          10       1.00      1.00      1.00       116\n",
      "          11       1.00      1.00      1.00       138\n",
      "          12       1.00      1.00      1.00       164\n",
      "          13       1.00      1.00      1.00       138\n",
      "\n",
      "    accuracy                           1.00      2127\n",
      "   macro avg       1.00      1.00      1.00      2127\n",
      "weighted avg       1.00      1.00      1.00      2127\n",
      "\n"
     ]
    }
   ],
   "source": [
    "print(classification_report(y_train, y_pred_train))"
   ]
  },
  {
   "cell_type": "code",
   "execution_count": 21,
   "metadata": {},
   "outputs": [
    {
     "name": "stdout",
     "output_type": "stream",
     "text": [
      "              precision    recall  f1-score   support\n",
      "\n",
      "           0       0.66      0.74      0.69        80\n",
      "           1       0.48      0.59      0.53        56\n",
      "           2       0.53      0.69      0.60        35\n",
      "           3       0.42      0.29      0.34        52\n",
      "           4       0.78      0.72      0.75        74\n",
      "           5       0.60      0.50      0.55        36\n",
      "           6       0.53      0.63      0.58        49\n",
      "           7       0.43      0.46      0.45        41\n",
      "           8       0.60      0.86      0.70        50\n",
      "           9       0.46      0.32      0.38        41\n",
      "          10       0.47      0.35      0.40        48\n",
      "          11       0.59      0.57      0.58        42\n",
      "          12       0.54      0.47      0.50        58\n",
      "          13       0.48      0.43      0.45        47\n",
      "\n",
      "    accuracy                           0.56       709\n",
      "   macro avg       0.54      0.54      0.54       709\n",
      "weighted avg       0.55      0.56      0.55       709\n",
      "\n"
     ]
    }
   ],
   "source": [
    "print(classification_report(y_test, y_pred_test))"
   ]
  },
  {
   "cell_type": "code",
   "execution_count": null,
   "metadata": {},
   "outputs": [],
   "source": []
  }
 ],
 "metadata": {
  "kernelspec": {
   "display_name": "Python 3",
   "language": "python",
   "name": "python3"
  },
  "language_info": {
   "codemirror_mode": {
    "name": "ipython",
    "version": 3
   },
   "file_extension": ".py",
   "mimetype": "text/x-python",
   "name": "python",
   "nbconvert_exporter": "python",
   "pygments_lexer": "ipython3",
   "version": "3.8.5"
  }
 },
 "nbformat": 4,
 "nbformat_minor": 4
}
